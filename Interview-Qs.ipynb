{
 "cells": [
  {
   "cell_type": "markdown",
   "metadata": {
    "toc": true
   },
   "source": [
    "<h1>Table of Contents<span class=\"tocSkip\"></span></h1>\n",
    "<div class=\"toc\"><ul class=\"toc-item\"><li><span><a href=\"#Duplicates\" data-toc-modified-id=\"Duplicates-1\"><span class=\"toc-item-num\">1&nbsp;&nbsp;</span>Duplicates</a></span></li><li><span><a href=\"#Runner-Up\" data-toc-modified-id=\"Runner-Up-2\"><span class=\"toc-item-num\">2&nbsp;&nbsp;</span>Runner Up</a></span></li><li><span><a href=\"#Given-the-names-and-grades-for-each-student-in-a-class-of--students,-store-them-in-a-nested-list-and-print-the-name(s)-of-any-student(s)-having-the-second-lowest-grade.\" data-toc-modified-id=\"Given-the-names-and-grades-for-each-student-in-a-class-of--students,-store-them-in-a-nested-list-and-print-the-name(s)-of-any-student(s)-having-the-second-lowest-grade.-3\"><span class=\"toc-item-num\">3&nbsp;&nbsp;</span>Given the names and grades for each student in a class of  students, store them in a nested list and print the name(s) of any student(s) having the second lowest grade.</a></span></li></ul></div>"
   ]
  },
  {
   "cell_type": "markdown",
   "metadata": {},
   "source": [
    "### Duplicates\n",
    "\n",
    "Given the list [4,3,2,4,5,6,4,7,6,8] return the duplicates [4,6]."
   ]
  },
  {
   "cell_type": "code",
   "execution_count": 15,
   "metadata": {},
   "outputs": [
    {
     "name": "stdout",
     "output_type": "stream",
     "text": [
      "[4, 6]\n"
     ]
    }
   ],
   "source": [
    "x = [4,3,2,4,5,6,4,7,6,8]\n",
    "y = []\n",
    "z = []\n",
    "for i in x:\n",
    "    if i not in y:\n",
    "        y.append(i)\n",
    "    else:\n",
    "        if i not in z:\n",
    "            z.append(i)\n",
    "        \n",
    "print(z)"
   ]
  },
  {
   "cell_type": "markdown",
   "metadata": {},
   "source": [
    "### Runner Up\n",
    "\n",
    "Given a list [2,3,6,6,5] print the runner up score. "
   ]
  },
  {
   "cell_type": "code",
   "execution_count": 54,
   "metadata": {},
   "outputs": [
    {
     "data": {
      "text/plain": [
       "5"
      ]
     },
     "execution_count": 54,
     "metadata": {},
     "output_type": "execute_result"
    }
   ],
   "source": [
    "import numpy as np\n",
    "\n",
    "x = [2,3,6,6,5]\n",
    "x = np.unique(x)\n",
    "x[-2]"
   ]
  },
  {
   "cell_type": "code",
   "execution_count": 55,
   "metadata": {},
   "outputs": [
    {
     "name": "stdout",
     "output_type": "stream",
     "text": [
      "5\n"
     ]
    }
   ],
   "source": [
    "x = [2,3,6,6,5]\n",
    "y = []\n",
    "for i in x:\n",
    "    if i not in y:\n",
    "        y.append(i)\n",
    "        \n",
    "y.sort()\n",
    "print(y[-2])"
   ]
  },
  {
   "cell_type": "code",
   "execution_count": 68,
   "metadata": {},
   "outputs": [
    {
     "name": "stdout",
     "output_type": "stream",
     "text": [
      "5\n"
     ]
    }
   ],
   "source": [
    "x = [2,3,6,6,5]\n",
    "x = set(x)\n",
    "x = list(x)[-2]\n",
    "print(x)"
   ]
  },
  {
   "cell_type": "code",
   "execution_count": null,
   "metadata": {},
   "outputs": [],
   "source": []
  }
 ],
 "metadata": {
  "kernelspec": {
   "display_name": "Python [conda env:learn-env] *",
   "language": "python",
   "name": "conda-env-learn-env-py"
  },
  "language_info": {
   "codemirror_mode": {
    "name": "ipython",
    "version": 3
   },
   "file_extension": ".py",
   "mimetype": "text/x-python",
   "name": "python",
   "nbconvert_exporter": "python",
   "pygments_lexer": "ipython3",
   "version": "3.6.9"
  },
  "toc": {
   "base_numbering": 1,
   "nav_menu": {},
   "number_sections": true,
   "sideBar": true,
   "skip_h1_title": false,
   "title_cell": "Table of Contents",
   "title_sidebar": "Contents",
   "toc_cell": true,
   "toc_position": {},
   "toc_section_display": true,
   "toc_window_display": false
  }
 },
 "nbformat": 4,
 "nbformat_minor": 2
}
